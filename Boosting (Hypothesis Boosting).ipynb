{
 "cells": [
  {
   "cell_type": "markdown",
   "id": "ad4b1aa8",
   "metadata": {},
   "source": [
    "# Boosting"
   ]
  },
  {
   "cell_type": "code",
   "execution_count": 1,
   "id": "56e20dd9",
   "metadata": {},
   "outputs": [],
   "source": [
    "# Definition: Boosting is an ensemble learning technique in machine learning that combines the predictions of\n",
    "# multiple weak learners to create a strong learner. It focuses on correcting errors made by previous models \n",
    "# by giving more weight to misclassified instances in each iteration."
   ]
  },
  {
   "cell_type": "markdown",
   "id": "4d18bf94",
   "metadata": {},
   "source": [
    "### Popular Algorithms: AdaBoost, Gradient Boosting, XGBoost."
   ]
  },
  {
   "cell_type": "markdown",
   "id": "84d8fe28",
   "metadata": {},
   "source": [
    "# Ada Boost"
   ]
  },
  {
   "cell_type": "code",
   "execution_count": 2,
   "id": "5cd536e8",
   "metadata": {},
   "outputs": [],
   "source": [
    "# Objective: AdaBoost aims to improve the performance of weak learners (often decision trees) by combining them to create\n",
    "# a strong learner. It focuses on instances that are misclassified by previous weak learners."
   ]
  },
  {
   "cell_type": "code",
   "execution_count": 3,
   "id": "4a1c94ce",
   "metadata": {},
   "outputs": [],
   "source": [
    "# You have a dataset containing customer information such as Total day minutes , Total day charge, and Account length, along\n",
    "# with a binary variable indicating whether the customer churned or not. Implement a decision tree classifier to predict \n",
    "# customer churn."
   ]
  },
  {
   "cell_type": "code",
   "execution_count": 4,
   "id": "d268f7d1",
   "metadata": {},
   "outputs": [],
   "source": [
    "import pandas as pd\n",
    "import numpy as np\n",
    "import seaborn as sns\n",
    "import matplotlib.pyplot as plt"
   ]
  },
  {
   "cell_type": "code",
   "execution_count": 5,
   "id": "738908a9",
   "metadata": {},
   "outputs": [
    {
     "data": {
      "text/html": [
       "<div>\n",
       "<style scoped>\n",
       "    .dataframe tbody tr th:only-of-type {\n",
       "        vertical-align: middle;\n",
       "    }\n",
       "\n",
       "    .dataframe tbody tr th {\n",
       "        vertical-align: top;\n",
       "    }\n",
       "\n",
       "    .dataframe thead th {\n",
       "        text-align: right;\n",
       "    }\n",
       "</style>\n",
       "<table border=\"1\" class=\"dataframe\">\n",
       "  <thead>\n",
       "    <tr style=\"text-align: right;\">\n",
       "      <th></th>\n",
       "      <th>Unnamed: 0</th>\n",
       "      <th>State</th>\n",
       "      <th>Account length</th>\n",
       "      <th>Area code</th>\n",
       "      <th>International plan</th>\n",
       "      <th>Voice mail plan</th>\n",
       "      <th>Number vmail messages</th>\n",
       "      <th>Total day minutes</th>\n",
       "      <th>Total day calls</th>\n",
       "      <th>Total day charge</th>\n",
       "      <th>...</th>\n",
       "      <th>Total eve calls</th>\n",
       "      <th>Total eve charge</th>\n",
       "      <th>Total night minutes</th>\n",
       "      <th>Total night calls</th>\n",
       "      <th>Total night charge</th>\n",
       "      <th>Total intl minutes</th>\n",
       "      <th>Total intl calls</th>\n",
       "      <th>Total intl charge</th>\n",
       "      <th>Customer service calls</th>\n",
       "      <th>Churn</th>\n",
       "    </tr>\n",
       "  </thead>\n",
       "  <tbody>\n",
       "    <tr>\n",
       "      <th>0</th>\n",
       "      <td>0</td>\n",
       "      <td>KS</td>\n",
       "      <td>128</td>\n",
       "      <td>415</td>\n",
       "      <td>No</td>\n",
       "      <td>Yes</td>\n",
       "      <td>25</td>\n",
       "      <td>265.1</td>\n",
       "      <td>110</td>\n",
       "      <td>45.07</td>\n",
       "      <td>...</td>\n",
       "      <td>99</td>\n",
       "      <td>16.78</td>\n",
       "      <td>244.7</td>\n",
       "      <td>91</td>\n",
       "      <td>11.01</td>\n",
       "      <td>10.0</td>\n",
       "      <td>3</td>\n",
       "      <td>2.70</td>\n",
       "      <td>1</td>\n",
       "      <td>False</td>\n",
       "    </tr>\n",
       "    <tr>\n",
       "      <th>1</th>\n",
       "      <td>1</td>\n",
       "      <td>OH</td>\n",
       "      <td>107</td>\n",
       "      <td>415</td>\n",
       "      <td>No</td>\n",
       "      <td>Yes</td>\n",
       "      <td>26</td>\n",
       "      <td>161.6</td>\n",
       "      <td>123</td>\n",
       "      <td>27.47</td>\n",
       "      <td>...</td>\n",
       "      <td>103</td>\n",
       "      <td>16.62</td>\n",
       "      <td>254.4</td>\n",
       "      <td>103</td>\n",
       "      <td>11.45</td>\n",
       "      <td>13.7</td>\n",
       "      <td>3</td>\n",
       "      <td>3.70</td>\n",
       "      <td>1</td>\n",
       "      <td>False</td>\n",
       "    </tr>\n",
       "    <tr>\n",
       "      <th>2</th>\n",
       "      <td>2</td>\n",
       "      <td>NJ</td>\n",
       "      <td>137</td>\n",
       "      <td>415</td>\n",
       "      <td>No</td>\n",
       "      <td>No</td>\n",
       "      <td>0</td>\n",
       "      <td>243.4</td>\n",
       "      <td>114</td>\n",
       "      <td>41.38</td>\n",
       "      <td>...</td>\n",
       "      <td>110</td>\n",
       "      <td>10.30</td>\n",
       "      <td>162.6</td>\n",
       "      <td>104</td>\n",
       "      <td>7.32</td>\n",
       "      <td>12.2</td>\n",
       "      <td>5</td>\n",
       "      <td>3.29</td>\n",
       "      <td>0</td>\n",
       "      <td>False</td>\n",
       "    </tr>\n",
       "    <tr>\n",
       "      <th>3</th>\n",
       "      <td>3</td>\n",
       "      <td>OH</td>\n",
       "      <td>84</td>\n",
       "      <td>408</td>\n",
       "      <td>Yes</td>\n",
       "      <td>No</td>\n",
       "      <td>0</td>\n",
       "      <td>299.4</td>\n",
       "      <td>71</td>\n",
       "      <td>50.90</td>\n",
       "      <td>...</td>\n",
       "      <td>88</td>\n",
       "      <td>5.26</td>\n",
       "      <td>196.9</td>\n",
       "      <td>89</td>\n",
       "      <td>8.86</td>\n",
       "      <td>6.6</td>\n",
       "      <td>7</td>\n",
       "      <td>1.78</td>\n",
       "      <td>2</td>\n",
       "      <td>False</td>\n",
       "    </tr>\n",
       "    <tr>\n",
       "      <th>4</th>\n",
       "      <td>4</td>\n",
       "      <td>OK</td>\n",
       "      <td>75</td>\n",
       "      <td>415</td>\n",
       "      <td>Yes</td>\n",
       "      <td>No</td>\n",
       "      <td>0</td>\n",
       "      <td>166.7</td>\n",
       "      <td>113</td>\n",
       "      <td>28.34</td>\n",
       "      <td>...</td>\n",
       "      <td>122</td>\n",
       "      <td>12.61</td>\n",
       "      <td>186.9</td>\n",
       "      <td>121</td>\n",
       "      <td>8.41</td>\n",
       "      <td>10.1</td>\n",
       "      <td>3</td>\n",
       "      <td>2.73</td>\n",
       "      <td>3</td>\n",
       "      <td>False</td>\n",
       "    </tr>\n",
       "    <tr>\n",
       "      <th>...</th>\n",
       "      <td>...</td>\n",
       "      <td>...</td>\n",
       "      <td>...</td>\n",
       "      <td>...</td>\n",
       "      <td>...</td>\n",
       "      <td>...</td>\n",
       "      <td>...</td>\n",
       "      <td>...</td>\n",
       "      <td>...</td>\n",
       "      <td>...</td>\n",
       "      <td>...</td>\n",
       "      <td>...</td>\n",
       "      <td>...</td>\n",
       "      <td>...</td>\n",
       "      <td>...</td>\n",
       "      <td>...</td>\n",
       "      <td>...</td>\n",
       "      <td>...</td>\n",
       "      <td>...</td>\n",
       "      <td>...</td>\n",
       "      <td>...</td>\n",
       "    </tr>\n",
       "    <tr>\n",
       "      <th>2661</th>\n",
       "      <td>2661</td>\n",
       "      <td>SC</td>\n",
       "      <td>79</td>\n",
       "      <td>415</td>\n",
       "      <td>No</td>\n",
       "      <td>No</td>\n",
       "      <td>0</td>\n",
       "      <td>134.7</td>\n",
       "      <td>98</td>\n",
       "      <td>22.90</td>\n",
       "      <td>...</td>\n",
       "      <td>68</td>\n",
       "      <td>16.12</td>\n",
       "      <td>221.4</td>\n",
       "      <td>128</td>\n",
       "      <td>9.96</td>\n",
       "      <td>11.8</td>\n",
       "      <td>5</td>\n",
       "      <td>3.19</td>\n",
       "      <td>2</td>\n",
       "      <td>False</td>\n",
       "    </tr>\n",
       "    <tr>\n",
       "      <th>2662</th>\n",
       "      <td>2662</td>\n",
       "      <td>AZ</td>\n",
       "      <td>192</td>\n",
       "      <td>415</td>\n",
       "      <td>No</td>\n",
       "      <td>Yes</td>\n",
       "      <td>36</td>\n",
       "      <td>156.2</td>\n",
       "      <td>77</td>\n",
       "      <td>26.55</td>\n",
       "      <td>...</td>\n",
       "      <td>126</td>\n",
       "      <td>18.32</td>\n",
       "      <td>279.1</td>\n",
       "      <td>83</td>\n",
       "      <td>12.56</td>\n",
       "      <td>9.9</td>\n",
       "      <td>6</td>\n",
       "      <td>2.67</td>\n",
       "      <td>2</td>\n",
       "      <td>False</td>\n",
       "    </tr>\n",
       "    <tr>\n",
       "      <th>2663</th>\n",
       "      <td>2663</td>\n",
       "      <td>WV</td>\n",
       "      <td>68</td>\n",
       "      <td>415</td>\n",
       "      <td>No</td>\n",
       "      <td>No</td>\n",
       "      <td>0</td>\n",
       "      <td>231.1</td>\n",
       "      <td>57</td>\n",
       "      <td>39.29</td>\n",
       "      <td>...</td>\n",
       "      <td>55</td>\n",
       "      <td>13.04</td>\n",
       "      <td>191.3</td>\n",
       "      <td>123</td>\n",
       "      <td>8.61</td>\n",
       "      <td>9.6</td>\n",
       "      <td>4</td>\n",
       "      <td>2.59</td>\n",
       "      <td>3</td>\n",
       "      <td>False</td>\n",
       "    </tr>\n",
       "    <tr>\n",
       "      <th>2664</th>\n",
       "      <td>2664</td>\n",
       "      <td>RI</td>\n",
       "      <td>28</td>\n",
       "      <td>510</td>\n",
       "      <td>No</td>\n",
       "      <td>No</td>\n",
       "      <td>0</td>\n",
       "      <td>180.8</td>\n",
       "      <td>109</td>\n",
       "      <td>30.74</td>\n",
       "      <td>...</td>\n",
       "      <td>58</td>\n",
       "      <td>24.55</td>\n",
       "      <td>191.9</td>\n",
       "      <td>91</td>\n",
       "      <td>8.64</td>\n",
       "      <td>14.1</td>\n",
       "      <td>6</td>\n",
       "      <td>3.81</td>\n",
       "      <td>2</td>\n",
       "      <td>False</td>\n",
       "    </tr>\n",
       "    <tr>\n",
       "      <th>2665</th>\n",
       "      <td>2665</td>\n",
       "      <td>TN</td>\n",
       "      <td>74</td>\n",
       "      <td>415</td>\n",
       "      <td>No</td>\n",
       "      <td>Yes</td>\n",
       "      <td>25</td>\n",
       "      <td>234.4</td>\n",
       "      <td>113</td>\n",
       "      <td>39.85</td>\n",
       "      <td>...</td>\n",
       "      <td>82</td>\n",
       "      <td>22.60</td>\n",
       "      <td>241.4</td>\n",
       "      <td>77</td>\n",
       "      <td>10.86</td>\n",
       "      <td>13.7</td>\n",
       "      <td>4</td>\n",
       "      <td>3.70</td>\n",
       "      <td>0</td>\n",
       "      <td>False</td>\n",
       "    </tr>\n",
       "  </tbody>\n",
       "</table>\n",
       "<p>2666 rows × 21 columns</p>\n",
       "</div>"
      ],
      "text/plain": [
       "      Unnamed: 0 State  Account length  Area code International plan  \\\n",
       "0              0    KS             128        415                 No   \n",
       "1              1    OH             107        415                 No   \n",
       "2              2    NJ             137        415                 No   \n",
       "3              3    OH              84        408                Yes   \n",
       "4              4    OK              75        415                Yes   \n",
       "...          ...   ...             ...        ...                ...   \n",
       "2661        2661    SC              79        415                 No   \n",
       "2662        2662    AZ             192        415                 No   \n",
       "2663        2663    WV              68        415                 No   \n",
       "2664        2664    RI              28        510                 No   \n",
       "2665        2665    TN              74        415                 No   \n",
       "\n",
       "     Voice mail plan  Number vmail messages  Total day minutes  \\\n",
       "0                Yes                     25              265.1   \n",
       "1                Yes                     26              161.6   \n",
       "2                 No                      0              243.4   \n",
       "3                 No                      0              299.4   \n",
       "4                 No                      0              166.7   \n",
       "...              ...                    ...                ...   \n",
       "2661              No                      0              134.7   \n",
       "2662             Yes                     36              156.2   \n",
       "2663              No                      0              231.1   \n",
       "2664              No                      0              180.8   \n",
       "2665             Yes                     25              234.4   \n",
       "\n",
       "      Total day calls  Total day charge  ...  Total eve calls  \\\n",
       "0                 110             45.07  ...               99   \n",
       "1                 123             27.47  ...              103   \n",
       "2                 114             41.38  ...              110   \n",
       "3                  71             50.90  ...               88   \n",
       "4                 113             28.34  ...              122   \n",
       "...               ...               ...  ...              ...   \n",
       "2661               98             22.90  ...               68   \n",
       "2662               77             26.55  ...              126   \n",
       "2663               57             39.29  ...               55   \n",
       "2664              109             30.74  ...               58   \n",
       "2665              113             39.85  ...               82   \n",
       "\n",
       "      Total eve charge  Total night minutes  Total night calls  \\\n",
       "0                16.78                244.7                 91   \n",
       "1                16.62                254.4                103   \n",
       "2                10.30                162.6                104   \n",
       "3                 5.26                196.9                 89   \n",
       "4                12.61                186.9                121   \n",
       "...                ...                  ...                ...   \n",
       "2661             16.12                221.4                128   \n",
       "2662             18.32                279.1                 83   \n",
       "2663             13.04                191.3                123   \n",
       "2664             24.55                191.9                 91   \n",
       "2665             22.60                241.4                 77   \n",
       "\n",
       "      Total night charge  Total intl minutes  Total intl calls  \\\n",
       "0                  11.01                10.0                 3   \n",
       "1                  11.45                13.7                 3   \n",
       "2                   7.32                12.2                 5   \n",
       "3                   8.86                 6.6                 7   \n",
       "4                   8.41                10.1                 3   \n",
       "...                  ...                 ...               ...   \n",
       "2661                9.96                11.8                 5   \n",
       "2662               12.56                 9.9                 6   \n",
       "2663                8.61                 9.6                 4   \n",
       "2664                8.64                14.1                 6   \n",
       "2665               10.86                13.7                 4   \n",
       "\n",
       "      Total intl charge  Customer service calls  Churn  \n",
       "0                  2.70                       1  False  \n",
       "1                  3.70                       1  False  \n",
       "2                  3.29                       0  False  \n",
       "3                  1.78                       2  False  \n",
       "4                  2.73                       3  False  \n",
       "...                 ...                     ...    ...  \n",
       "2661               3.19                       2  False  \n",
       "2662               2.67                       2  False  \n",
       "2663               2.59                       3  False  \n",
       "2664               3.81                       2  False  \n",
       "2665               3.70                       0  False  \n",
       "\n",
       "[2666 rows x 21 columns]"
      ]
     },
     "execution_count": 5,
     "metadata": {},
     "output_type": "execute_result"
    }
   ],
   "source": [
    "df=pd.read_csv(r\"C:\\Users\\Ganesh Jaiswar\\Desktop\\ODINSCHOOL\\EDA AND ML\\Book data clean\\customer_churn_dataset.csv\")\n",
    "df"
   ]
  },
  {
   "cell_type": "code",
   "execution_count": 6,
   "id": "b99e4783",
   "metadata": {},
   "outputs": [
    {
     "data": {
      "text/html": [
       "<div>\n",
       "<style scoped>\n",
       "    .dataframe tbody tr th:only-of-type {\n",
       "        vertical-align: middle;\n",
       "    }\n",
       "\n",
       "    .dataframe tbody tr th {\n",
       "        vertical-align: top;\n",
       "    }\n",
       "\n",
       "    .dataframe thead th {\n",
       "        text-align: right;\n",
       "    }\n",
       "</style>\n",
       "<table border=\"1\" class=\"dataframe\">\n",
       "  <thead>\n",
       "    <tr style=\"text-align: right;\">\n",
       "      <th></th>\n",
       "      <th>Unnamed: 0</th>\n",
       "      <th>Account length</th>\n",
       "      <th>Area code</th>\n",
       "      <th>Number vmail messages</th>\n",
       "      <th>Total day minutes</th>\n",
       "      <th>Total day calls</th>\n",
       "      <th>Total day charge</th>\n",
       "      <th>Total eve minutes</th>\n",
       "      <th>Total eve calls</th>\n",
       "      <th>Total eve charge</th>\n",
       "      <th>Total night minutes</th>\n",
       "      <th>Total night calls</th>\n",
       "      <th>Total night charge</th>\n",
       "      <th>Total intl minutes</th>\n",
       "      <th>Total intl calls</th>\n",
       "      <th>Total intl charge</th>\n",
       "      <th>Customer service calls</th>\n",
       "    </tr>\n",
       "  </thead>\n",
       "  <tbody>\n",
       "    <tr>\n",
       "      <th>count</th>\n",
       "      <td>2666.000000</td>\n",
       "      <td>2666.000000</td>\n",
       "      <td>2666.000000</td>\n",
       "      <td>2666.000000</td>\n",
       "      <td>2666.00000</td>\n",
       "      <td>2666.000000</td>\n",
       "      <td>2666.000000</td>\n",
       "      <td>2666.000000</td>\n",
       "      <td>2666.000000</td>\n",
       "      <td>2666.000000</td>\n",
       "      <td>2666.000000</td>\n",
       "      <td>2666.000000</td>\n",
       "      <td>2666.000000</td>\n",
       "      <td>2666.000000</td>\n",
       "      <td>2666.000000</td>\n",
       "      <td>2666.000000</td>\n",
       "      <td>2666.000000</td>\n",
       "    </tr>\n",
       "    <tr>\n",
       "      <th>mean</th>\n",
       "      <td>1332.500000</td>\n",
       "      <td>100.620405</td>\n",
       "      <td>437.438860</td>\n",
       "      <td>8.021755</td>\n",
       "      <td>179.48162</td>\n",
       "      <td>100.310203</td>\n",
       "      <td>30.512404</td>\n",
       "      <td>200.386159</td>\n",
       "      <td>100.023631</td>\n",
       "      <td>17.033072</td>\n",
       "      <td>201.168942</td>\n",
       "      <td>100.106152</td>\n",
       "      <td>9.052689</td>\n",
       "      <td>10.237022</td>\n",
       "      <td>4.467367</td>\n",
       "      <td>2.764490</td>\n",
       "      <td>1.562641</td>\n",
       "    </tr>\n",
       "    <tr>\n",
       "      <th>std</th>\n",
       "      <td>769.752233</td>\n",
       "      <td>39.563974</td>\n",
       "      <td>42.521018</td>\n",
       "      <td>13.612277</td>\n",
       "      <td>54.21035</td>\n",
       "      <td>19.988162</td>\n",
       "      <td>9.215733</td>\n",
       "      <td>50.951515</td>\n",
       "      <td>20.161445</td>\n",
       "      <td>4.330864</td>\n",
       "      <td>50.780323</td>\n",
       "      <td>19.418459</td>\n",
       "      <td>2.285120</td>\n",
       "      <td>2.788349</td>\n",
       "      <td>2.456195</td>\n",
       "      <td>0.752812</td>\n",
       "      <td>1.311236</td>\n",
       "    </tr>\n",
       "    <tr>\n",
       "      <th>min</th>\n",
       "      <td>0.000000</td>\n",
       "      <td>1.000000</td>\n",
       "      <td>408.000000</td>\n",
       "      <td>0.000000</td>\n",
       "      <td>0.00000</td>\n",
       "      <td>0.000000</td>\n",
       "      <td>0.000000</td>\n",
       "      <td>0.000000</td>\n",
       "      <td>0.000000</td>\n",
       "      <td>0.000000</td>\n",
       "      <td>43.700000</td>\n",
       "      <td>33.000000</td>\n",
       "      <td>1.970000</td>\n",
       "      <td>0.000000</td>\n",
       "      <td>0.000000</td>\n",
       "      <td>0.000000</td>\n",
       "      <td>0.000000</td>\n",
       "    </tr>\n",
       "    <tr>\n",
       "      <th>25%</th>\n",
       "      <td>666.250000</td>\n",
       "      <td>73.000000</td>\n",
       "      <td>408.000000</td>\n",
       "      <td>0.000000</td>\n",
       "      <td>143.40000</td>\n",
       "      <td>87.000000</td>\n",
       "      <td>24.380000</td>\n",
       "      <td>165.300000</td>\n",
       "      <td>87.000000</td>\n",
       "      <td>14.050000</td>\n",
       "      <td>166.925000</td>\n",
       "      <td>87.000000</td>\n",
       "      <td>7.512500</td>\n",
       "      <td>8.500000</td>\n",
       "      <td>3.000000</td>\n",
       "      <td>2.300000</td>\n",
       "      <td>1.000000</td>\n",
       "    </tr>\n",
       "    <tr>\n",
       "      <th>50%</th>\n",
       "      <td>1332.500000</td>\n",
       "      <td>100.000000</td>\n",
       "      <td>415.000000</td>\n",
       "      <td>0.000000</td>\n",
       "      <td>179.95000</td>\n",
       "      <td>101.000000</td>\n",
       "      <td>30.590000</td>\n",
       "      <td>200.900000</td>\n",
       "      <td>100.000000</td>\n",
       "      <td>17.080000</td>\n",
       "      <td>201.150000</td>\n",
       "      <td>100.000000</td>\n",
       "      <td>9.050000</td>\n",
       "      <td>10.200000</td>\n",
       "      <td>4.000000</td>\n",
       "      <td>2.750000</td>\n",
       "      <td>1.000000</td>\n",
       "    </tr>\n",
       "    <tr>\n",
       "      <th>75%</th>\n",
       "      <td>1998.750000</td>\n",
       "      <td>127.000000</td>\n",
       "      <td>510.000000</td>\n",
       "      <td>19.000000</td>\n",
       "      <td>215.90000</td>\n",
       "      <td>114.000000</td>\n",
       "      <td>36.700000</td>\n",
       "      <td>235.100000</td>\n",
       "      <td>114.000000</td>\n",
       "      <td>19.980000</td>\n",
       "      <td>236.475000</td>\n",
       "      <td>113.000000</td>\n",
       "      <td>10.640000</td>\n",
       "      <td>12.100000</td>\n",
       "      <td>6.000000</td>\n",
       "      <td>3.270000</td>\n",
       "      <td>2.000000</td>\n",
       "    </tr>\n",
       "    <tr>\n",
       "      <th>max</th>\n",
       "      <td>2665.000000</td>\n",
       "      <td>243.000000</td>\n",
       "      <td>510.000000</td>\n",
       "      <td>50.000000</td>\n",
       "      <td>350.80000</td>\n",
       "      <td>160.000000</td>\n",
       "      <td>59.640000</td>\n",
       "      <td>363.700000</td>\n",
       "      <td>170.000000</td>\n",
       "      <td>30.910000</td>\n",
       "      <td>395.000000</td>\n",
       "      <td>166.000000</td>\n",
       "      <td>17.770000</td>\n",
       "      <td>20.000000</td>\n",
       "      <td>20.000000</td>\n",
       "      <td>5.400000</td>\n",
       "      <td>9.000000</td>\n",
       "    </tr>\n",
       "  </tbody>\n",
       "</table>\n",
       "</div>"
      ],
      "text/plain": [
       "        Unnamed: 0  Account length    Area code  Number vmail messages  \\\n",
       "count  2666.000000     2666.000000  2666.000000            2666.000000   \n",
       "mean   1332.500000      100.620405   437.438860               8.021755   \n",
       "std     769.752233       39.563974    42.521018              13.612277   \n",
       "min       0.000000        1.000000   408.000000               0.000000   \n",
       "25%     666.250000       73.000000   408.000000               0.000000   \n",
       "50%    1332.500000      100.000000   415.000000               0.000000   \n",
       "75%    1998.750000      127.000000   510.000000              19.000000   \n",
       "max    2665.000000      243.000000   510.000000              50.000000   \n",
       "\n",
       "       Total day minutes  Total day calls  Total day charge  \\\n",
       "count         2666.00000      2666.000000       2666.000000   \n",
       "mean           179.48162       100.310203         30.512404   \n",
       "std             54.21035        19.988162          9.215733   \n",
       "min              0.00000         0.000000          0.000000   \n",
       "25%            143.40000        87.000000         24.380000   \n",
       "50%            179.95000       101.000000         30.590000   \n",
       "75%            215.90000       114.000000         36.700000   \n",
       "max            350.80000       160.000000         59.640000   \n",
       "\n",
       "       Total eve minutes  Total eve calls  Total eve charge  \\\n",
       "count        2666.000000      2666.000000       2666.000000   \n",
       "mean          200.386159       100.023631         17.033072   \n",
       "std            50.951515        20.161445          4.330864   \n",
       "min             0.000000         0.000000          0.000000   \n",
       "25%           165.300000        87.000000         14.050000   \n",
       "50%           200.900000       100.000000         17.080000   \n",
       "75%           235.100000       114.000000         19.980000   \n",
       "max           363.700000       170.000000         30.910000   \n",
       "\n",
       "       Total night minutes  Total night calls  Total night charge  \\\n",
       "count          2666.000000        2666.000000         2666.000000   \n",
       "mean            201.168942         100.106152            9.052689   \n",
       "std              50.780323          19.418459            2.285120   \n",
       "min              43.700000          33.000000            1.970000   \n",
       "25%             166.925000          87.000000            7.512500   \n",
       "50%             201.150000         100.000000            9.050000   \n",
       "75%             236.475000         113.000000           10.640000   \n",
       "max             395.000000         166.000000           17.770000   \n",
       "\n",
       "       Total intl minutes  Total intl calls  Total intl charge  \\\n",
       "count         2666.000000       2666.000000        2666.000000   \n",
       "mean            10.237022          4.467367           2.764490   \n",
       "std              2.788349          2.456195           0.752812   \n",
       "min              0.000000          0.000000           0.000000   \n",
       "25%              8.500000          3.000000           2.300000   \n",
       "50%             10.200000          4.000000           2.750000   \n",
       "75%             12.100000          6.000000           3.270000   \n",
       "max             20.000000         20.000000           5.400000   \n",
       "\n",
       "       Customer service calls  \n",
       "count             2666.000000  \n",
       "mean                 1.562641  \n",
       "std                  1.311236  \n",
       "min                  0.000000  \n",
       "25%                  1.000000  \n",
       "50%                  1.000000  \n",
       "75%                  2.000000  \n",
       "max                  9.000000  "
      ]
     },
     "execution_count": 6,
     "metadata": {},
     "output_type": "execute_result"
    }
   ],
   "source": [
    "df.describe()"
   ]
  },
  {
   "cell_type": "markdown",
   "id": "8a89f3a4",
   "metadata": {},
   "source": [
    "# To find data"
   ]
  },
  {
   "cell_type": "code",
   "execution_count": 7,
   "id": "00fa1a69",
   "metadata": {},
   "outputs": [
    {
     "data": {
      "text/plain": [
       "Index(['State', 'International plan', 'Voice mail plan'], dtype='object')"
      ]
     },
     "execution_count": 7,
     "metadata": {},
     "output_type": "execute_result"
    }
   ],
   "source": [
    "object= df.select_dtypes(include='object').columns\n",
    "object"
   ]
  },
  {
   "cell_type": "code",
   "execution_count": 8,
   "id": "3989d995",
   "metadata": {},
   "outputs": [
    {
     "data": {
      "text/plain": [
       "Index(['Churn'], dtype='object')"
      ]
     },
     "execution_count": 8,
     "metadata": {},
     "output_type": "execute_result"
    }
   ],
   "source": [
    "boolen= df.select_dtypes(include='bool').columns\n",
    "boolen"
   ]
  },
  {
   "cell_type": "code",
   "execution_count": 9,
   "id": "e06e32da",
   "metadata": {},
   "outputs": [
    {
     "data": {
      "text/plain": [
       "Unnamed: 0                0\n",
       "State                     0\n",
       "Account length            0\n",
       "Area code                 0\n",
       "International plan        0\n",
       "Voice mail plan           0\n",
       "Number vmail messages     0\n",
       "Total day minutes         0\n",
       "Total day calls           0\n",
       "Total day charge          0\n",
       "Total eve minutes         0\n",
       "Total eve calls           0\n",
       "Total eve charge          0\n",
       "Total night minutes       0\n",
       "Total night calls         0\n",
       "Total night charge        0\n",
       "Total intl minutes        0\n",
       "Total intl calls          0\n",
       "Total intl charge         0\n",
       "Customer service calls    0\n",
       "Churn                     0\n",
       "dtype: int64"
      ]
     },
     "execution_count": 9,
     "metadata": {},
     "output_type": "execute_result"
    }
   ],
   "source": [
    "df.isnull().sum()"
   ]
  },
  {
   "cell_type": "markdown",
   "id": "1a9b34b2",
   "metadata": {},
   "source": [
    "# Visulaization"
   ]
  },
  {
   "cell_type": "code",
   "execution_count": 10,
   "id": "8827aeba",
   "metadata": {},
   "outputs": [
    {
     "data": {
      "text/plain": [
       "array([415, 408, 510], dtype=int64)"
      ]
     },
     "execution_count": 10,
     "metadata": {},
     "output_type": "execute_result"
    }
   ],
   "source": [
    "df['Area code'].unique()"
   ]
  },
  {
   "cell_type": "code",
   "execution_count": 11,
   "id": "29d33d33",
   "metadata": {},
   "outputs": [
    {
     "data": {
      "text/plain": [
       "<Axes: xlabel='International plan', ylabel='Count'>"
      ]
     },
     "execution_count": 11,
     "metadata": {},
     "output_type": "execute_result"
    },
    {
     "data": {
      "image/png": "[encoded data removed]",
      "text/plain": [
       "<Figure size 640x480 with 1 Axes>"
      ]
     },
     "metadata": {},
     "output_type": "display_data"
    }
   ],
   "source": [
    "\n",
    "sns.histplot(df,x='International plan',weights=7)\n"
   ]
  },
  {
   "cell_type": "code",
   "execution_count": 12,
   "id": "d1ed1c2f",
   "metadata": {},
   "outputs": [
    {
     "data": {
      "text/plain": [
       "array(['Yes', 'No'], dtype=object)"
      ]
     },
     "execution_count": 12,
     "metadata": {},
     "output_type": "execute_result"
    }
   ],
   "source": [
    "df['Voice mail plan'].unique()"
   ]
  },
  {
   "cell_type": "code",
   "execution_count": 13,
   "id": "5154b99a",
   "metadata": {},
   "outputs": [
    {
     "data": {
      "text/plain": [
       "<Axes: xlabel='Voice mail plan', ylabel='count'>"
      ]
     },
     "execution_count": 13,
     "metadata": {},
     "output_type": "execute_result"
    },
    {
     "data": {
      "image/png": "[encoded data removed]",
      "text/plain": [
       "<Figure size 640x480 with 1 Axes>"
      ]
     },
     "metadata": {},
     "output_type": "display_data"
    }
   ],
   "source": [
    "sns.countplot(df,x='Voice mail plan')"
   ]
  },
  {
   "cell_type": "code",
   "execution_count": 14,
   "id": "a3076aaf",
   "metadata": {},
   "outputs": [
    {
     "data": {
      "text/html": [
       "<div>\n",
       "<style scoped>\n",
       "    .dataframe tbody tr th:only-of-type {\n",
       "        vertical-align: middle;\n",
       "    }\n",
       "\n",
       "    .dataframe tbody tr th {\n",
       "        vertical-align: top;\n",
       "    }\n",
       "\n",
       "    .dataframe thead th {\n",
       "        text-align: right;\n",
       "    }\n",
       "</style>\n",
       "<table border=\"1\" class=\"dataframe\">\n",
       "  <thead>\n",
       "    <tr style=\"text-align: right;\">\n",
       "      <th></th>\n",
       "      <th>Unnamed: 0</th>\n",
       "      <th>State</th>\n",
       "      <th>Account length</th>\n",
       "      <th>Area code</th>\n",
       "      <th>International plan</th>\n",
       "      <th>Voice mail plan</th>\n",
       "      <th>Number vmail messages</th>\n",
       "      <th>Total day minutes</th>\n",
       "      <th>Total day calls</th>\n",
       "      <th>Total day charge</th>\n",
       "      <th>...</th>\n",
       "      <th>Total eve calls</th>\n",
       "      <th>Total eve charge</th>\n",
       "      <th>Total night minutes</th>\n",
       "      <th>Total night calls</th>\n",
       "      <th>Total night charge</th>\n",
       "      <th>Total intl minutes</th>\n",
       "      <th>Total intl calls</th>\n",
       "      <th>Total intl charge</th>\n",
       "      <th>Customer service calls</th>\n",
       "      <th>Churn</th>\n",
       "    </tr>\n",
       "  </thead>\n",
       "  <tbody>\n",
       "    <tr>\n",
       "      <th>0</th>\n",
       "      <td>0</td>\n",
       "      <td>KS</td>\n",
       "      <td>128</td>\n",
       "      <td>415</td>\n",
       "      <td>No</td>\n",
       "      <td>Yes</td>\n",
       "      <td>25</td>\n",
       "      <td>265.1</td>\n",
       "      <td>110</td>\n",
       "      <td>45.07</td>\n",
       "      <td>...</td>\n",
       "      <td>99</td>\n",
       "      <td>16.78</td>\n",
       "      <td>244.7</td>\n",
       "      <td>91</td>\n",
       "      <td>11.01</td>\n",
       "      <td>10.0</td>\n",
       "      <td>3</td>\n",
       "      <td>2.7</td>\n",
       "      <td>1</td>\n",
       "      <td>False</td>\n",
       "    </tr>\n",
       "    <tr>\n",
       "      <th>1</th>\n",
       "      <td>1</td>\n",
       "      <td>OH</td>\n",
       "      <td>107</td>\n",
       "      <td>415</td>\n",
       "      <td>No</td>\n",
       "      <td>Yes</td>\n",
       "      <td>26</td>\n",
       "      <td>161.6</td>\n",
       "      <td>123</td>\n",
       "      <td>27.47</td>\n",
       "      <td>...</td>\n",
       "      <td>103</td>\n",
       "      <td>16.62</td>\n",
       "      <td>254.4</td>\n",
       "      <td>103</td>\n",
       "      <td>11.45</td>\n",
       "      <td>13.7</td>\n",
       "      <td>3</td>\n",
       "      <td>3.7</td>\n",
       "      <td>1</td>\n",
       "      <td>False</td>\n",
       "    </tr>\n",
       "  </tbody>\n",
       "</table>\n",
       "<p>2 rows × 21 columns</p>\n",
       "</div>"
      ],
      "text/plain": [
       "   Unnamed: 0 State  Account length  Area code International plan  \\\n",
       "0           0    KS             128        415                 No   \n",
       "1           1    OH             107        415                 No   \n",
       "\n",
       "  Voice mail plan  Number vmail messages  Total day minutes  Total day calls  \\\n",
       "0             Yes                     25              265.1              110   \n",
       "1             Yes                     26              161.6              123   \n",
       "\n",
       "   Total day charge  ...  Total eve calls  Total eve charge  \\\n",
       "0             45.07  ...               99             16.78   \n",
       "1             27.47  ...              103             16.62   \n",
       "\n",
       "   Total night minutes  Total night calls  Total night charge  \\\n",
       "0                244.7                 91               11.01   \n",
       "1                254.4                103               11.45   \n",
       "\n",
       "   Total intl minutes  Total intl calls  Total intl charge  \\\n",
       "0                10.0                 3                2.7   \n",
       "1                13.7                 3                3.7   \n",
       "\n",
       "   Customer service calls  Churn  \n",
       "0                       1  False  \n",
       "1                       1  False  \n",
       "\n",
       "[2 rows x 21 columns]"
      ]
     },
     "execution_count": 14,
     "metadata": {},
     "output_type": "execute_result"
    }
   ],
   "source": [
    "df.head(2)"
   ]
  },
  {
   "cell_type": "code",
   "execution_count": 15,
   "id": "6d54e8db",
   "metadata": {},
   "outputs": [
    {
     "data": {
      "text/plain": [
       "<Axes: xlabel='Total day charge', ylabel='Total day calls'>"
      ]
     },
     "execution_count": 15,
     "metadata": {},
     "output_type": "execute_result"
    },
    {
     "data": {
      "image/png": "[encoded data removed]",
      "text/plain": [
       "<Figure size 640x480 with 1 Axes>"
      ]
     },
     "metadata": {},
     "output_type": "display_data"
    }
   ],
   "source": [
    "sns.scatterplot(data=df,x='Total day charge',y='Total day calls',hue='International plan')"
   ]
  },
  {
   "cell_type": "markdown",
   "id": "47143f0f",
   "metadata": {},
   "source": [
    "# Encoding Method"
   ]
  },
  {
   "cell_type": "code",
   "execution_count": 16,
   "id": "06a99ad5",
   "metadata": {},
   "outputs": [],
   "source": [
    "ED=df[['International plan', 'Voice mail plan']]\n"
   ]
  },
  {
   "cell_type": "code",
   "execution_count": 17,
   "id": "75fbf65a",
   "metadata": {},
   "outputs": [],
   "source": [
    "from sklearn.preprocessing import LabelEncoder\n",
    "Encod=LabelEncoder()\n",
    "Chrn=LabelEncoder()"
   ]
  },
  {
   "cell_type": "code",
   "execution_count": 18,
   "id": "0a3ca617",
   "metadata": {},
   "outputs": [],
   "source": [
    "for i in ED:\n",
    "    df[i]=Encod.fit_transform(df[i])"
   ]
  },
  {
   "cell_type": "code",
   "execution_count": 19,
   "id": "e8276fbc",
   "metadata": {},
   "outputs": [],
   "source": [
    "crn=df['Churn']"
   ]
  },
  {
   "cell_type": "code",
   "execution_count": 20,
   "id": "cde06493",
   "metadata": {},
   "outputs": [],
   "source": [
    "df['Churn']=Chrn.fit_transform(df['Churn'])"
   ]
  },
  {
   "cell_type": "code",
   "execution_count": 21,
   "id": "fe346e49",
   "metadata": {},
   "outputs": [
    {
     "data": {
      "text/html": [
       "<div>\n",
       "<style scoped>\n",
       "    .dataframe tbody tr th:only-of-type {\n",
       "        vertical-align: middle;\n",
       "    }\n",
       "\n",
       "    .dataframe tbody tr th {\n",
       "        vertical-align: top;\n",
       "    }\n",
       "\n",
       "    .dataframe thead th {\n",
       "        text-align: right;\n",
       "    }\n",
       "</style>\n",
       "<table border=\"1\" class=\"dataframe\">\n",
       "  <thead>\n",
       "    <tr style=\"text-align: right;\">\n",
       "      <th></th>\n",
       "      <th>Unnamed: 0</th>\n",
       "      <th>State</th>\n",
       "      <th>Account length</th>\n",
       "      <th>Area code</th>\n",
       "      <th>International plan</th>\n",
       "      <th>Voice mail plan</th>\n",
       "      <th>Number vmail messages</th>\n",
       "      <th>Total day minutes</th>\n",
       "      <th>Total day calls</th>\n",
       "      <th>Total day charge</th>\n",
       "      <th>...</th>\n",
       "      <th>Total eve calls</th>\n",
       "      <th>Total eve charge</th>\n",
       "      <th>Total night minutes</th>\n",
       "      <th>Total night calls</th>\n",
       "      <th>Total night charge</th>\n",
       "      <th>Total intl minutes</th>\n",
       "      <th>Total intl calls</th>\n",
       "      <th>Total intl charge</th>\n",
       "      <th>Customer service calls</th>\n",
       "      <th>Churn</th>\n",
       "    </tr>\n",
       "  </thead>\n",
       "  <tbody>\n",
       "    <tr>\n",
       "      <th>0</th>\n",
       "      <td>0</td>\n",
       "      <td>KS</td>\n",
       "      <td>128</td>\n",
       "      <td>415</td>\n",
       "      <td>0</td>\n",
       "      <td>1</td>\n",
       "      <td>25</td>\n",
       "      <td>265.1</td>\n",
       "      <td>110</td>\n",
       "      <td>45.07</td>\n",
       "      <td>...</td>\n",
       "      <td>99</td>\n",
       "      <td>16.78</td>\n",
       "      <td>244.7</td>\n",
       "      <td>91</td>\n",
       "      <td>11.01</td>\n",
       "      <td>10.0</td>\n",
       "      <td>3</td>\n",
       "      <td>2.7</td>\n",
       "      <td>1</td>\n",
       "      <td>0</td>\n",
       "    </tr>\n",
       "    <tr>\n",
       "      <th>1</th>\n",
       "      <td>1</td>\n",
       "      <td>OH</td>\n",
       "      <td>107</td>\n",
       "      <td>415</td>\n",
       "      <td>0</td>\n",
       "      <td>1</td>\n",
       "      <td>26</td>\n",
       "      <td>161.6</td>\n",
       "      <td>123</td>\n",
       "      <td>27.47</td>\n",
       "      <td>...</td>\n",
       "      <td>103</td>\n",
       "      <td>16.62</td>\n",
       "      <td>254.4</td>\n",
       "      <td>103</td>\n",
       "      <td>11.45</td>\n",
       "      <td>13.7</td>\n",
       "      <td>3</td>\n",
       "      <td>3.7</td>\n",
       "      <td>1</td>\n",
       "      <td>0</td>\n",
       "    </tr>\n",
       "  </tbody>\n",
       "</table>\n",
       "<p>2 rows × 21 columns</p>\n",
       "</div>"
      ],
      "text/plain": [
       "   Unnamed: 0 State  Account length  Area code  International plan  \\\n",
       "0           0    KS             128        415                   0   \n",
       "1           1    OH             107        415                   0   \n",
       "\n",
       "   Voice mail plan  Number vmail messages  Total day minutes  Total day calls  \\\n",
       "0                1                     25              265.1              110   \n",
       "1                1                     26              161.6              123   \n",
       "\n",
       "   Total day charge  ...  Total eve calls  Total eve charge  \\\n",
       "0             45.07  ...               99             16.78   \n",
       "1             27.47  ...              103             16.62   \n",
       "\n",
       "   Total night minutes  Total night calls  Total night charge  \\\n",
       "0                244.7                 91               11.01   \n",
       "1                254.4                103               11.45   \n",
       "\n",
       "   Total intl minutes  Total intl calls  Total intl charge  \\\n",
       "0                10.0                 3                2.7   \n",
       "1                13.7                 3                3.7   \n",
       "\n",
       "   Customer service calls  Churn  \n",
       "0                       1      0  \n",
       "1                       1      0  \n",
       "\n",
       "[2 rows x 21 columns]"
      ]
     },
     "execution_count": 21,
     "metadata": {},
     "output_type": "execute_result"
    }
   ],
   "source": [
    "df.head(2)"
   ]
  },
  {
   "cell_type": "markdown",
   "id": "b8fc4202",
   "metadata": {},
   "source": [
    "# separate features"
   ]
  },
  {
   "cell_type": "code",
   "execution_count": 22,
   "id": "e2a07d3b",
   "metadata": {},
   "outputs": [
    {
     "data": {
      "text/plain": [
       "Index(['Unnamed: 0', 'Account length', 'Area code', 'International plan',\n",
       "       'Voice mail plan', 'Number vmail messages', 'Total day calls',\n",
       "       'Total eve calls', 'Total night calls', 'Total intl calls',\n",
       "       'Customer service calls', 'Churn'],\n",
       "      dtype='object')"
      ]
     },
     "execution_count": 22,
     "metadata": {},
     "output_type": "execute_result"
    }
   ],
   "source": [
    "num=df.select_dtypes(include='int').columns\n",
    "num"
   ]
  },
  {
   "cell_type": "code",
   "execution_count": 23,
   "id": "cd804dce",
   "metadata": {},
   "outputs": [],
   "source": [
    "x=df[['Account length', 'Area code', 'International plan',\n",
    "       'Voice mail plan', 'Number vmail messages', 'Total day calls',\n",
    "       'Total eve calls', 'Total night calls', 'Total intl calls',\n",
    "       'Customer service calls']]\n"
   ]
  },
  {
   "cell_type": "code",
   "execution_count": 24,
   "id": "c5301760",
   "metadata": {},
   "outputs": [],
   "source": [
    "y=df['Churn']"
   ]
  },
  {
   "cell_type": "code",
   "execution_count": 25,
   "id": "a009bbbe",
   "metadata": {},
   "outputs": [
    {
     "name": "stdout",
     "output_type": "stream",
     "text": [
      "(2666, 10)\n"
     ]
    }
   ],
   "source": [
    "print(x.shape)\n"
   ]
  },
  {
   "cell_type": "code",
   "execution_count": 26,
   "id": "162ef099",
   "metadata": {},
   "outputs": [
    {
     "data": {
      "text/plain": [
       "(2666,)"
      ]
     },
     "execution_count": 26,
     "metadata": {},
     "output_type": "execute_result"
    }
   ],
   "source": [
    "df.Churn.shape"
   ]
  },
  {
   "cell_type": "markdown",
   "id": "8cc5b756",
   "metadata": {},
   "source": [
    "# Split our Data into Train and Test"
   ]
  },
  {
   "cell_type": "code",
   "execution_count": 27,
   "id": "439a889f",
   "metadata": {},
   "outputs": [],
   "source": [
    "from sklearn.model_selection import train_test_split"
   ]
  },
  {
   "cell_type": "code",
   "execution_count": 28,
   "id": "6ace24e7",
   "metadata": {},
   "outputs": [],
   "source": [
    "X_train,X_test,y_train,y_test=train_test_split(x,y,random_state=42,test_size=0.2)"
   ]
  },
  {
   "cell_type": "markdown",
   "id": "cff3bddd",
   "metadata": {},
   "source": [
    "# Features Scaling"
   ]
  },
  {
   "cell_type": "code",
   "execution_count": 29,
   "id": "a54d3f70",
   "metadata": {},
   "outputs": [],
   "source": [
    "from sklearn.preprocessing import MinMaxScaler\n",
    "minmax=MinMaxScaler()"
   ]
  },
  {
   "cell_type": "code",
   "execution_count": 30,
   "id": "d801ed12",
   "metadata": {},
   "outputs": [
    {
     "data": {
      "text/plain": [
       "array([[0.52892562, 0.06862745, 0.        , ..., 0.46153846, 0.3       ,\n",
       "        0.22222222],\n",
       "       [0.31818182, 0.06862745, 0.        , ..., 0.85384615, 0.3       ,\n",
       "        0.11111111],\n",
       "       [0.14049587, 0.        , 0.        , ..., 0.63076923, 0.1       ,\n",
       "        0.55555556],\n",
       "       ...,\n",
       "       [0.24380165, 1.        , 0.        , ..., 0.58461538, 0.3       ,\n",
       "        0.22222222],\n",
       "       [0.34297521, 1.        , 0.        , ..., 0.65384615, 0.25      ,\n",
       "        0.22222222],\n",
       "       [0.34710744, 1.        , 0.        , ..., 0.73076923, 0.2       ,\n",
       "        0.22222222]])"
      ]
     },
     "execution_count": 30,
     "metadata": {},
     "output_type": "execute_result"
    }
   ],
   "source": [
    "X_train_Scaled=minmax.fit_transform(X_train)\n",
    "X_train_Scaled"
   ]
  },
  {
   "cell_type": "code",
   "execution_count": 31,
   "id": "3c47b14d",
   "metadata": {},
   "outputs": [
    {
     "data": {
      "text/plain": [
       "array([[0.47107438, 1.        , 1.        , ..., 0.54615385, 0.4       ,\n",
       "        0.11111111],\n",
       "       [0.6446281 , 0.06862745, 1.        , ..., 0.4       , 0.25      ,\n",
       "        0.        ],\n",
       "       [0.34297521, 0.06862745, 0.        , ..., 0.5       , 0.25      ,\n",
       "        0.11111111],\n",
       "       ...,\n",
       "       [0.53719008, 1.        , 0.        , ..., 0.36153846, 0.15      ,\n",
       "        0.        ],\n",
       "       [0.37190083, 0.06862745, 0.        , ..., 0.43076923, 0.2       ,\n",
       "        0.11111111],\n",
       "       [0.52892562, 0.06862745, 0.        , ..., 0.45384615, 0.3       ,\n",
       "        0.11111111]])"
      ]
     },
     "execution_count": 31,
     "metadata": {},
     "output_type": "execute_result"
    }
   ],
   "source": [
    " X_test_Scaled=minmax.transform(X_test)  # we will also use transform methode for X_test\n",
    "X_test_Scaled"
   ]
  },
  {
   "cell_type": "markdown",
   "id": "55eaad1d",
   "metadata": {},
   "source": [
    "# Model Selection"
   ]
  },
  {
   "cell_type": "code",
   "execution_count": 32,
   "id": "f2a31884",
   "metadata": {},
   "outputs": [],
   "source": [
    "from sklearn.ensemble import AdaBoostClassifier,GradientBoostingClassifier,HistGradientBoostingClassifier"
   ]
  },
  {
   "cell_type": "code",
   "execution_count": 33,
   "id": "4421a3a0",
   "metadata": {},
   "outputs": [],
   "source": [
    "\n",
    "ada=AdaBoostClassifier(learning_rate=0.5,random_state=42)\n",
    "gbc=GradientBoostingClassifier(learning_rate=0.6,random_state=42,n_estimators=100)\n",
    "hgc=HistGradientBoostingClassifier(learning_rate=0.5,random_state=42)"
   ]
  },
  {
   "cell_type": "code",
   "execution_count": 34,
   "id": "20ccf441",
   "metadata": {},
   "outputs": [
    {
     "data": {
      "text/html": [
       "<style>#sk-container-id-1 {color: black;background-color: white;}#sk-container-id-1 pre{padding: 0;}#sk-container-id-1 div.sk-toggleable {background-color: white;}#sk-container-id-1 label.sk-toggleable__label {cursor: pointer;display: block;width: 100%;margin-bottom: 0;padding: 0.3em;box-sizing: border-box;text-align: center;}#sk-container-id-1 label.sk-toggleable__label-arrow:before {content: \"▸\";float: left;margin-right: 0.25em;color: #696969;}#sk-container-id-1 label.sk-toggleable__label-arrow:hover:before {color: black;}#sk-container-id-1 div.sk-estimator:hover label.sk-toggleable__label-arrow:before {color: black;}#sk-container-id-1 div.sk-toggleable__content {max-height: 0;max-width: 0;overflow: hidden;text-align: left;background-color: #f0f8ff;}#sk-container-id-1 div.sk-toggleable__content pre {margin: 0.2em;color: black;border-radius: 0.25em;background-color: #f0f8ff;}#sk-container-id-1 input.sk-toggleable__control:checked~div.sk-toggleable__content {max-height: 200px;max-width: 100%;overflow: auto;}#sk-container-id-1 input.sk-toggleable__control:checked~label.sk-toggleable__label-arrow:before {content: \"▾\";}#sk-container-id-1 div.sk-estimator input.sk-toggleable__control:checked~label.sk-toggleable__label {background-color: #d4ebff;}#sk-container-id-1 div.sk-label input.sk-toggleable__control:checked~label.sk-toggleable__label {background-color: #d4ebff;}#sk-container-id-1 input.sk-hidden--visually {border: 0;clip: rect(1px 1px 1px 1px);clip: rect(1px, 1px, 1px, 1px);height: 1px;margin: -1px;overflow: hidden;padding: 0;position: absolute;width: 1px;}#sk-container-id-1 div.sk-estimator {font-family: monospace;background-color: #f0f8ff;border: 1px dotted black;border-radius: 0.25em;box-sizing: border-box;margin-bottom: 0.5em;}#sk-container-id-1 div.sk-estimator:hover {background-color: #d4ebff;}#sk-container-id-1 div.sk-parallel-item::after {content: \"\";width: 100%;border-bottom: 1px solid gray;flex-grow: 1;}#sk-container-id-1 div.sk-label:hover label.sk-toggleable__label {background-color: #d4ebff;}#sk-container-id-1 div.sk-serial::before {content: \"\";position: absolute;border-left: 1px solid gray;box-sizing: border-box;top: 0;bottom: 0;left: 50%;z-index: 0;}#sk-container-id-1 div.sk-serial {display: flex;flex-direction: column;align-items: center;background-color: white;padding-right: 0.2em;padding-left: 0.2em;position: relative;}#sk-container-id-1 div.sk-item {position: relative;z-index: 1;}#sk-container-id-1 div.sk-parallel {display: flex;align-items: stretch;justify-content: center;background-color: white;position: relative;}#sk-container-id-1 div.sk-item::before, #sk-container-id-1 div.sk-parallel-item::before {content: \"\";position: absolute;border-left: 1px solid gray;box-sizing: border-box;top: 0;bottom: 0;left: 50%;z-index: -1;}#sk-container-id-1 div.sk-parallel-item {display: flex;flex-direction: column;z-index: 1;position: relative;background-color: white;}#sk-container-id-1 div.sk-parallel-item:first-child::after {align-self: flex-end;width: 50%;}#sk-container-id-1 div.sk-parallel-item:last-child::after {align-self: flex-start;width: 50%;}#sk-container-id-1 div.sk-parallel-item:only-child::after {width: 0;}#sk-container-id-1 div.sk-dashed-wrapped {border: 1px dashed gray;margin: 0 0.4em 0.5em 0.4em;box-sizing: border-box;padding-bottom: 0.4em;background-color: white;}#sk-container-id-1 div.sk-label label {font-family: monospace;font-weight: bold;display: inline-block;line-height: 1.2em;}#sk-container-id-1 div.sk-label-container {text-align: center;}#sk-container-id-1 div.sk-container {/* jupyter's `normalize.less` sets `[hidden] { display: none; }` but bootstrap.min.css set `[hidden] { display: none !important; }` so we also need the `!important` here to be able to override the default hidden behavior on the sphinx rendered scikit-learn.org. See: https://github.com/scikit-learn/scikit-learn/issues/21755 */display: inline-block !important;position: relative;}#sk-container-id-1 div.sk-text-repr-fallback {display: none;}</style><div id=\"sk-container-id-1\" class=\"sk-top-container\"><div class=\"sk-text-repr-fallback\"><pre>HistGradientBoostingClassifier(learning_rate=0.5, random_state=42)</pre><b>In a Jupyter environment, please rerun this cell to show the HTML representation or trust the notebook. <br />On GitHub, the HTML representation is unable to render, please try loading this page with nbviewer.org.</b></div><div class=\"sk-container\" hidden><div class=\"sk-item\"><div class=\"sk-estimator sk-toggleable\"><input class=\"sk-toggleable__control sk-hidden--visually\" id=\"sk-estimator-id-1\" type=\"checkbox\" checked><label for=\"sk-estimator-id-1\" class=\"sk-toggleable__label sk-toggleable__label-arrow\">HistGradientBoostingClassifier</label><div class=\"sk-toggleable__content\"><pre>HistGradientBoostingClassifier(learning_rate=0.5, random_state=42)</pre></div></div></div></div></div>"
      ],
      "text/plain": [
       "HistGradientBoostingClassifier(learning_rate=0.5, random_state=42)"
      ]
     },
     "execution_count": 34,
     "metadata": {},
     "output_type": "execute_result"
    }
   ],
   "source": [
    "ada.fit(X_train_Scaled,y_train)\n",
    "gbc.fit (X_train_Scaled,y_train)\n",
    "hgc.fit(X_train_Scaled,y_train)"
   ]
  },
  {
   "cell_type": "code",
   "execution_count": 35,
   "id": "36cccc3f",
   "metadata": {},
   "outputs": [],
   "source": [
    "predct_ada=ada.predict(X_test_Scaled)\n",
    "predct_gbc=gbc.predict(X_test_Scaled)\n",
    "predct_hgc=hgc.predict(X_test_Scaled)"
   ]
  },
  {
   "cell_type": "code",
   "execution_count": null,
   "id": "5ac7c33c",
   "metadata": {},
   "outputs": [],
   "source": []
  },
  {
   "cell_type": "markdown",
   "id": "c42a3fe4",
   "metadata": {},
   "source": [
    "# Evaluation Method"
   ]
  },
  {
   "cell_type": "code",
   "execution_count": 36,
   "id": "09f7b877",
   "metadata": {},
   "outputs": [],
   "source": [
    "from sklearn.metrics import accuracy_score,confusion_matrix,classification_report"
   ]
  },
  {
   "cell_type": "code",
   "execution_count": 37,
   "id": "b32fc1f3",
   "metadata": {},
   "outputs": [],
   "source": [
    "ac_ada=accuracy_score(predct_ada,y_test)\n",
    "ac_gbc=accuracy_score(predct_gbc,y_test)\n",
    "ac_hgc=accuracy_score(predct_hgc,y_test)"
   ]
  },
  {
   "cell_type": "code",
   "execution_count": null,
   "id": "01b5375c",
   "metadata": {},
   "outputs": [],
   "source": []
  },
  {
   "cell_type": "code",
   "execution_count": 38,
   "id": "7b43bef0",
   "metadata": {},
   "outputs": [
    {
     "name": "stdout",
     "output_type": "stream",
     "text": [
      "Ada Boosting Accuracy: 0.8632958801498127\n",
      "Gradient Boosting Accuracy: 0.8408239700374532\n",
      "Hist Gradient Boosting Accuracy: 0.8745318352059925\n"
     ]
    }
   ],
   "source": [
    "print(\"Ada Boosting Accuracy:\",ac_ada)\n",
    "print(\"Gradient Boosting Accuracy:\",ac_gbc)\n",
    "print(\"Hist Gradient Boosting Accuracy:\",ac_hgc)"
   ]
  },
  {
   "cell_type": "code",
   "execution_count": 39,
   "id": "2a1dbd95",
   "metadata": {},
   "outputs": [],
   "source": [
    "cm_ada=confusion_matrix(predct_ada,y_test)\n",
    "cm_gbc=confusion_matrix(predct_gbc,y_test)\n",
    "cm_hgc=confusion_matrix(predct_hgc,y_test)"
   ]
  },
  {
   "cell_type": "code",
   "execution_count": 40,
   "id": "5d22583b",
   "metadata": {},
   "outputs": [
    {
     "name": "stdout",
     "output_type": "stream",
     "text": [
      "Ada Boosting Accuracy: [[444  62]\n",
      " [ 11  17]]\n",
      "Gradient Boosting Accuracy: [[418  48]\n",
      " [ 37  31]]\n",
      "Hist Gradient Boosting Accuracy: [[439  51]\n",
      " [ 16  28]]\n"
     ]
    }
   ],
   "source": [
    "print(\"Ada Boosting Accuracy:\",  cm_ada)\n",
    "\n",
    "print(\"Gradient Boosting Accuracy:\",cm_gbc)\n",
    "\n",
    "print(\"Hist Gradient Boosting Accuracy:\",cm_hgc)"
   ]
  },
  {
   "cell_type": "code",
   "execution_count": 41,
   "id": "f4c26482",
   "metadata": {},
   "outputs": [],
   "source": [
    "cr_ada=classification_report(predct_ada,y_test)\n",
    "cr_gbc=classification_report(predct_gbc,y_test)\n",
    "cr_hgc=classification_report(predct_hgc,y_test)"
   ]
  },
  {
   "cell_type": "code",
   "execution_count": 42,
   "id": "610c72e8",
   "metadata": {},
   "outputs": [
    {
     "name": "stdout",
     "output_type": "stream",
     "text": [
      "Ada Boosting Accuracy:               precision    recall  f1-score   support\n",
      "\n",
      "           0       0.98      0.88      0.92       506\n",
      "           1       0.22      0.61      0.32        28\n",
      "\n",
      "    accuracy                           0.86       534\n",
      "   macro avg       0.60      0.74      0.62       534\n",
      "weighted avg       0.94      0.86      0.89       534\n",
      "\n",
      "Gradient Boosting Accuracy:               precision    recall  f1-score   support\n",
      "\n",
      "           0       0.92      0.90      0.91       466\n",
      "           1       0.39      0.46      0.42        68\n",
      "\n",
      "    accuracy                           0.84       534\n",
      "   macro avg       0.66      0.68      0.66       534\n",
      "weighted avg       0.85      0.84      0.85       534\n",
      "\n",
      "Hist Gradient Boosting Accuracy:               precision    recall  f1-score   support\n",
      "\n",
      "           0       0.96      0.90      0.93       490\n",
      "           1       0.35      0.64      0.46        44\n",
      "\n",
      "    accuracy                           0.87       534\n",
      "   macro avg       0.66      0.77      0.69       534\n",
      "weighted avg       0.91      0.87      0.89       534\n",
      "\n"
     ]
    }
   ],
   "source": [
    "print(\"Ada Boosting Accuracy:\",  cr_ada)\n",
    "\n",
    "print(\"Gradient Boosting Accuracy:\",cr_gbc)\n",
    "\n",
    "print(\"Hist Gradient Boosting Accuracy:\",cr_hgc)"
   ]
  },
  {
   "cell_type": "markdown",
   "id": "871238d6",
   "metadata": {},
   "source": [
    "# Cross Validation\n"
   ]
  },
  {
   "cell_type": "code",
   "execution_count": 43,
   "id": "30f866d5",
   "metadata": {},
   "outputs": [],
   "source": [
    "from sklearn.model_selection import cross_val_score,cross_val_predict"
   ]
  },
  {
   "cell_type": "code",
   "execution_count": 44,
   "id": "1b88fa2c",
   "metadata": {},
   "outputs": [],
   "source": [
    "scores_ada=cross_val_score(ada,x,y,cv=5)\n",
    "scores_gb=cross_val_score(gbc,x,y,cv=5)\n",
    "scores_hg=cross_val_score(hgc,x,y,cv=5)"
   ]
  },
  {
   "cell_type": "code",
   "execution_count": 45,
   "id": "9610ba07",
   "metadata": {},
   "outputs": [
    {
     "name": "stdout",
     "output_type": "stream",
     "text": [
      "Scores off Ada Boosting: [0.85955056 0.87242026 0.86116323 0.86866792 0.87429644]\n",
      "Scores off Gradient Boosting: [0.84831461 0.86491557 0.85178236 0.86116323 0.83677298]\n",
      "Scores off Hist Gradient Boosting: [0.86142322 0.86491557 0.86679174 0.88555347 0.84615385]\n"
     ]
    }
   ],
   "source": [
    "print(\"Scores off Ada Boosting:\",scores_ada)\n",
    "print(\"Scores off Gradient Boosting:\",scores_gb)\n",
    "print(\"Scores off Hist Gradient Boosting:\",scores_hg)"
   ]
  },
  {
   "cell_type": "markdown",
   "id": "b77d5622",
   "metadata": {},
   "source": [
    "# Assumption"
   ]
  },
  {
   "cell_type": "code",
   "execution_count": null,
   "id": "81f430f6",
   "metadata": {},
   "outputs": [],
   "source": [
    "plt.scatter(predct_hgc,y_test)"
   ]
  },
  {
   "cell_type": "code",
   "execution_count": 47,
   "id": "efbe6181",
   "metadata": {},
   "outputs": [],
   "source": [
    "# predct_ada=ada.predict(X_test_Scaled)\n",
    "# predct_gbc=gbc.predict(X_test_Scaled)\n",
    "# predct_hgc=hgc.predict(X_test_Scaled)"
   ]
  },
  {
   "cell_type": "code",
   "execution_count": 48,
   "id": "f916d8c8",
   "metadata": {},
   "outputs": [
    {
     "name": "stderr",
     "output_type": "stream",
     "text": [
      "C:\\Users\\Ganesh Jaiswar\\AppData\\Local\\Programs\\Python\\Python311\\Lib\\site-packages\\seaborn\\axisgrid.py:118: UserWarning: The figure layout has changed to tight\n",
      "  self._figure.tight_layout(*args, **kwargs)\n"
     ]
    },
    {
     "data": {
      "text/plain": [
       "<seaborn.axisgrid.FacetGrid at 0x270d8b83d50>"
      ]
     },
     "execution_count": 48,
     "metadata": {},
     "output_type": "execute_result"
    },
    {
     "data": {
      "image/png": "[encoded data removed]",
      "text/plain": [
       "<Figure size 500x500 with 1 Axes>"
      ]
     },
     "metadata": {},
     "output_type": "display_data"
    }
   ],
   "source": [
    "sns.displot(predct_hgc,kind='kde')"
   ]
  },
  {
   "cell_type": "code",
   "execution_count": 49,
   "id": "1b38b716",
   "metadata": {},
   "outputs": [
    {
     "data": {
      "text/plain": [
       "2087    1\n",
       "1915    0\n",
       "479     0\n",
       "1898    1\n",
       "741     0\n",
       "       ..\n",
       "1196    0\n",
       "958     0\n",
       "861     0\n",
       "1510    0\n",
       "1992    1\n",
       "Name: Churn, Length: 534, dtype: int64"
      ]
     },
     "execution_count": 49,
     "metadata": {},
     "output_type": "execute_result"
    }
   ],
   "source": [
    "residuals=y_test-predct_hgc\n",
    "residuals"
   ]
  },
  {
   "cell_type": "code",
   "execution_count": 50,
   "id": "ee8f4bea",
   "metadata": {},
   "outputs": [
    {
     "name": "stderr",
     "output_type": "stream",
     "text": [
      "C:\\Users\\Ganesh Jaiswar\\AppData\\Local\\Programs\\Python\\Python311\\Lib\\site-packages\\seaborn\\axisgrid.py:118: UserWarning: The figure layout has changed to tight\n",
      "  self._figure.tight_layout(*args, **kwargs)\n"
     ]
    },
    {
     "data": {
      "image/png": "[encoded data removed]",
      "text/plain": [
       "<Figure size 500x500 with 1 Axes>"
      ]
     },
     "metadata": {},
     "output_type": "display_data"
    }
   ],
   "source": [
    "sns.displot(residuals,kind='kde')\n",
    "plt.show()\n",
    "\n",
    "# model are good "
   ]
  },
  {
   "cell_type": "code",
   "execution_count": null,
   "id": "ffb35be5",
   "metadata": {},
   "outputs": [],
   "source": []
  },
  {
   "cell_type": "code",
   "execution_count": null,
   "id": "8cd93b82",
   "metadata": {},
   "outputs": [],
   "source": []
  },
  {
   "cell_type": "code",
   "execution_count": null,
   "id": "fab6a0de",
   "metadata": {},
   "outputs": [],
   "source": []
  }
 ],
 "metadata": {
  "kernelspec": {
   "display_name": "Python 3 (ipykernel)",
   "language": "python",
   "name": "python3"
  },
  "language_info": {
   "codemirror_mode": {
    "name": "ipython",
    "version": 3
   },
   "file_extension": ".py",
   "mimetype": "text/x-python",
   "name": "python",
   "nbconvert_exporter": "python",
   "pygments_lexer": "ipython3",
   "version": "3.11.0"
  }
 },
 "nbformat": 4,
 "nbformat_minor": 5
}
